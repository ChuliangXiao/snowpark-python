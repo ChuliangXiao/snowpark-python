{
 "cells": [
  {
   "cell_type": "code",
   "execution_count": 1,
   "id": "68aa2757",
   "metadata": {},
   "outputs": [
    {
     "data": {
      "text/html": [
       "<style>.container { width:70% !important; }</style>"
      ],
      "text/plain": [
       "<IPython.core.display.HTML object>"
      ]
     },
     "metadata": {},
     "output_type": "display_data"
    }
   ],
   "source": [
    "from IPython.core.display import display, HTML\n",
    "display(HTML(\"<style>.container { width:70% !important; }</style>\"))"
   ]
  },
  {
   "cell_type": "code",
   "execution_count": 2,
   "id": "f9bc42f5",
   "metadata": {},
   "outputs": [],
   "source": [
    "import sys\n",
    "import datetime\n",
    "from decimal import Decimal\n",
    "from snowflake.snowpark.session import Session\n",
    "sys.path.append('./test')\n",
    "from parameters import CONNECTION_PARAMETERS"
   ]
  },
  {
   "cell_type": "markdown",
   "id": "39a48b33",
   "metadata": {},
   "source": [
    "### Connect to Snowflake and run SQL in Snowflake"
   ]
  },
  {
   "cell_type": "code",
   "execution_count": 3,
   "id": "6b6a4a46",
   "metadata": {},
   "outputs": [
    {
     "name": "stdout",
     "output_type": "stream",
     "text": [
      "BOSTON\n"
     ]
    }
   ],
   "source": [
    "session = Session.builder.configs(CONNECTION_PARAMETERS).create()\n",
    "print(session.sql('show tables').collect()[0].get_string(1))"
   ]
  },
  {
   "cell_type": "markdown",
   "id": "fa39261b",
   "metadata": {},
   "source": [
    "### Create a dataframe from a Snowflake table"
   ]
  },
  {
   "cell_type": "code",
   "execution_count": 4,
   "id": "63cf3161",
   "metadata": {
    "scrolled": true
   },
   "outputs": [
    {
     "name": "stdout",
     "output_type": "stream",
     "text": [
      "------------------------------------------------------------------------------------------------------------------------------\n",
      "|\"CRIM\"   |\"ZN\"  |\"INDUS\"  |\"CHAS\"  |\"NOX\"  |\"RM\"   |\"AGE\"  |\"DIS\"   |\"RAD\"  |\"TAX\"  |\"PTRATIO\"  |\"B\"     |\"LSTAT\"  |\"MEDV\"  |\n",
      "------------------------------------------------------------------------------------------------------------------------------\n",
      "|0.00632  |18.0  |2.31     |0.0     |0.538  |6.575  |65.2   |4.09    |1.0    |296.0  |15.3       |396.9   |4.98     |24.0    |\n",
      "|0.02731  |0.0   |7.07     |0.0     |0.469  |6.421  |78.9   |4.9671  |2.0    |242.0  |17.8       |396.9   |9.14     |21.6    |\n",
      "|0.02729  |0.0   |7.07     |0.0     |0.469  |7.185  |61.1   |4.9671  |2.0    |242.0  |17.8       |392.83  |4.03     |34.7    |\n",
      "|0.03237  |0.0   |2.18     |0.0     |0.458  |6.998  |45.8   |6.0622  |3.0    |222.0  |18.7       |394.63  |2.94     |33.4    |\n",
      "|0.06905  |0.0   |2.18     |0.0     |0.458  |7.147  |54.2   |6.0622  |3.0    |222.0  |18.7       |396.9   |5.33     |36.2    |\n",
      "|0.02985  |0.0   |2.18     |0.0     |0.458  |6.43   |58.7   |6.0622  |3.0    |222.0  |18.7       |394.12  |5.21     |28.7    |\n",
      "|0.08829  |12.5  |7.87     |0.0     |0.524  |6.012  |66.6   |5.5605  |5.0    |311.0  |15.2       |395.6   |12.43    |22.9    |\n",
      "|0.14455  |12.5  |7.87     |0.0     |0.524  |6.172  |96.1   |5.9505  |5.0    |311.0  |15.2       |396.9   |19.15    |27.1    |\n",
      "|0.21124  |12.5  |7.87     |0.0     |0.524  |5.631  |100.0  |6.0821  |5.0    |311.0  |15.2       |386.63  |29.93    |16.5    |\n",
      "|0.17004  |12.5  |7.87     |0.0     |0.524  |6.004  |85.9   |6.5921  |5.0    |311.0  |15.2       |386.71  |17.1     |18.9    |\n",
      "------------------------------------------------------------------------------------------------------------------------------\n",
      "\n"
     ]
    }
   ],
   "source": [
    "df = session.table(\"boston\")\n",
    "df.show(10)"
   ]
  },
  {
   "cell_type": "markdown",
   "id": "d82e5a1a",
   "metadata": {},
   "source": [
    "### Dataframe operations"
   ]
  },
  {
   "cell_type": "code",
   "execution_count": 5,
   "id": "a65e3bf4",
   "metadata": {},
   "outputs": [],
   "source": [
    "import logging\n",
    "logging.basicConfig(stream=sys.stdout, level=logging.INFO)"
   ]
  },
  {
   "cell_type": "code",
   "execution_count": 6,
   "id": "8588fc94",
   "metadata": {},
   "outputs": [
    {
     "name": "stdout",
     "output_type": "stream",
     "text": [
      "INFO:snowflake.snowpark.internal.server_connection:Execute query [queryID: 019e3325-0003-188d-0000-00040076248a]  SELECT  *  FROM ( SELECT AVG(\"MEDV\") AS \"AVG(MEDV)\" FROM ( SELECT  *  FROM ( SELECT  *  FROM (boston)) WHERE ((\"DIS\" >= 5:: bigint) AND (\"CHAS\" = 1:: bigint))) LIMIT 1) LIMIT 10\n",
      "---------------\n",
      "|\"AVG(MEDV)\"  |\n",
      "---------------\n",
      "|48.0         |\n",
      "---------------\n",
      "\n"
     ]
    }
   ],
   "source": [
    "from snowflake.snowpark.functions import avg, col\n",
    "df.filter((df.DIS >= 5) & (df[\"CHAS\"] == 1)).agg(avg(col(\"MEDV\"))).show()"
   ]
  },
  {
   "cell_type": "code",
   "execution_count": 7,
   "id": "d7bcb271",
   "metadata": {},
   "outputs": [
    {
     "name": "stdout",
     "output_type": "stream",
     "text": [
      "INFO:snowflake.snowpark.internal.server_connection:Execute query [queryID: 019e3325-0003-188d-0000-000400762576]  SELECT  *  FROM ( SELECT \"AGE_GROUP\", \"RAD\", AVG(\"MEDV\") AS \"AVG(MEDV)\" FROM ( SELECT \"CRIM\", \"ZN\", \"INDUS\", \"CHAS\", \"NOX\", \"RM\", \"AGE\", \"DIS\", \"RAD\", \"TAX\", \"PTRATIO\", \"B\", \"LSTAT\", \"MEDV\", (\"AGE\" > 50:: bigint) AS \"AGE_GROUP\" FROM ( SELECT  *  FROM (boston))) GROUP BY \"AGE_GROUP\", \"RAD\") ORDER BY \"RAD\" ASC NULLS FIRST LIMIT 20\n",
      "--------------------------------------------\n",
      "|\"AGE_GROUP\"  |\"RAD\"  |\"AVG(MEDV)\"         |\n",
      "--------------------------------------------\n",
      "|True         |1.0    |20.185714285714287  |\n",
      "|False        |1.0    |26.61538461538461   |\n",
      "|False        |2.0    |33.3                |\n",
      "|True         |2.0    |24.17058823529412   |\n",
      "|False        |3.0    |26.505555555555553  |\n",
      "|True         |3.0    |29.21               |\n",
      "|True         |4.0    |18.16718749999999   |\n",
      "|False        |4.0    |25.86739130434782   |\n",
      "|True         |5.0    |25.186075949367083  |\n",
      "|False        |5.0    |26.85000000000001   |\n",
      "|False        |6.0    |23.575              |\n",
      "|True         |6.0    |19.822222222222223  |\n",
      "|False        |7.0    |28.563636363636366  |\n",
      "|True         |7.0    |24.433333333333334  |\n",
      "|False        |8.0    |29.220000000000006  |\n",
      "|True         |8.0    |30.65789473684211   |\n",
      "|True         |24.0   |16.302325581395348  |\n",
      "|False        |24.0   |20.76666666666667   |\n",
      "--------------------------------------------\n",
      "\n"
     ]
    }
   ],
   "source": [
    "df.withColumn(\"AGE_GROUP\", df[\"AGE\"] > 50).groupBy([\"AGE_GROUP\", \"RAD\"]).agg(avg(col(\"MEDV\"))).sort(\"RAD\").show(20)"
   ]
  },
  {
   "cell_type": "code",
   "execution_count": 8,
   "id": "1f54fdef",
   "metadata": {},
   "outputs": [],
   "source": [
    "logging.disable(sys.maxsize)"
   ]
  },
  {
   "cell_type": "markdown",
   "id": "ccb75a5d",
   "metadata": {},
   "source": [
    "### Convert a dataframe to a local Pandas dataframe"
   ]
  },
  {
   "cell_type": "code",
   "execution_count": 9,
   "id": "e1b21785",
   "metadata": {},
   "outputs": [
    {
     "data": {
      "image/png": "[encoded data removed]",
      "text/plain": [
       "<Figure size 720x576 with 16 Axes>"
      ]
     },
     "metadata": {
      "needs_background": "light"
     },
     "output_type": "display_data"
    }
   ],
   "source": [
    "import matplotlib.pyplot as plt\n",
    "pandas_df = df.toPandas()\n",
    "pandas_df.hist(figsize=(10, 8))\n",
    "plt.tight_layout()\n",
    "plt.show()"
   ]
  },
  {
   "cell_type": "markdown",
   "id": "6dcc7b40",
   "metadata": {},
   "source": [
    "### UDFs"
   ]
  },
  {
   "cell_type": "code",
   "execution_count": 10,
   "id": "d07432f1",
   "metadata": {},
   "outputs": [],
   "source": [
    "from snowflake.snowpark.functions import udf\n",
    "from snowflake.snowpark.types.sf_types import IntegerType, FloatType\n",
    "\n",
    "def square(x):\n",
    "    return x * x\n",
    "\n",
    "@udf(return_type=FloatType(), input_types=[IntegerType()])\n",
    "def cube_udf(x):\n",
    "    return square(x) * x\n",
    "\n",
    "square_udf = udf(square, return_type=FloatType(), input_types=[IntegerType()], name=\"square\")\n",
    "add_udf = udf(lambda x, y: x + y, return_type=FloatType(), input_types=[IntegerType(), IntegerType()])"
   ]
  },
  {
   "cell_type": "code",
   "execution_count": 11,
   "id": "24fa3fd7",
   "metadata": {},
   "outputs": [
    {
     "name": "stdout",
     "output_type": "stream",
     "text": [
      "---------------------------\n",
      "|\"A\"  |\"B\"  |\"C\"   |\"D\"   |\n",
      "---------------------------\n",
      "|1    |1.0  |1.0   |2.0   |\n",
      "|2    |4.0  |8.0   |12.0  |\n",
      "|3    |9.0  |27.0  |36.0  |\n",
      "---------------------------\n",
      "\n"
     ]
    }
   ],
   "source": [
    "df2 = session.createDataFrame([1, 2, 3]).toDF(\"a\")\n",
    "df2.select(\"a\", square_udf(\"a\"), cube_udf(\"a\"), add_udf(square_udf(\"a\"), cube_udf(\"a\"))).toDF(\"a\", \"b\", \"c\", \"d\").show()"
   ]
  },
  {
   "cell_type": "code",
   "execution_count": 12,
   "id": "35d1a8a5",
   "metadata": {},
   "outputs": [
    {
     "name": "stdout",
     "output_type": "stream",
     "text": [
      "---------------\n",
      "|\"SQUARE(8)\"  |\n",
      "---------------\n",
      "|64.0         |\n",
      "---------------\n",
      "\n"
     ]
    }
   ],
   "source": [
    "session.sql(\"select square(8)\").show()"
   ]
  },
  {
   "cell_type": "markdown",
   "id": "5fc25afb",
   "metadata": {},
   "source": [
    "### Simple linear regression UDF with a local dependency"
   ]
  },
  {
   "cell_type": "code",
   "execution_count": 13,
   "id": "e86f72d2",
   "metadata": {},
   "outputs": [],
   "source": [
    "from snowflake.snowpark.types.sf_types import ArrayType\n",
    "from lr import simple_linear_regression\n",
    "\n",
    "session.addImports(\"./lr.py\")\n",
    "linear_regression_udf = udf(simple_linear_regression,\n",
    "                            return_type=ArrayType(FloatType()),\n",
    "                            input_types=[ArrayType(FloatType()), ArrayType(FloatType())])"
   ]
  },
  {
   "cell_type": "code",
   "execution_count": 14,
   "id": "c02d3a9b",
   "metadata": {},
   "outputs": [],
   "source": [
    "from snowflake.snowpark.functions import array_agg\n",
    "predictions = df.select(linear_regression_udf(array_agg(col(\"LSTAT\")), array_agg(col(\"MEDV\")))).collect()[0].get_list(0)"
   ]
  },
  {
   "cell_type": "code",
   "execution_count": 15,
   "id": "d7a907e9",
   "metadata": {},
   "outputs": [
    {
     "data": {
      "image/png": "[encoded data removed]",
      "text/plain": [
       "<Figure size 720x432 with 1 Axes>"
      ]
     },
     "metadata": {
      "needs_background": "light"
     },
     "output_type": "display_data"
    }
   ],
   "source": [
    "plt.figure(figsize=(10, 6))\n",
    "plt.plot(pandas_df[\"LSTAT\"], pandas_df[\"MEDV\"], '.')\n",
    "plt.plot(pandas_df[\"LSTAT\"], predictions)\n",
    "plt.xlabel(\"LSTAT\")\n",
    "plt.ylabel(\"MEDV\")\n",
    "plt.show()"
   ]
  },
  {
   "cell_type": "markdown",
   "id": "85b17229",
   "metadata": {},
   "source": [
    "----------------------------------------------------------"
   ]
  },
  {
   "cell_type": "code",
   "execution_count": null,
   "id": "b3712c2d",
   "metadata": {},
   "outputs": [],
   "source": [
    "session.close()"
   ]
  },
  {
   "cell_type": "code",
   "execution_count": null,
   "id": "ff4d1385",
   "metadata": {},
   "outputs": [],
   "source": []
  }
 ],
 "metadata": {
  "kernelspec": {
   "display_name": "Python 3",
   "language": "python",
   "name": "python3"
  },
  "language_info": {
   "codemirror_mode": {
    "name": "ipython",
    "version": 3
   },
   "file_extension": ".py",
   "mimetype": "text/x-python",
   "name": "python",
   "nbconvert_exporter": "python",
   "pygments_lexer": "ipython3",
   "version": "3.6.8"
  }
 },
 "nbformat": 4,
 "nbformat_minor": 5
}
