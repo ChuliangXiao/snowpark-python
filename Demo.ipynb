{
 "cells": [
  {
   "cell_type": "code",
   "execution_count": 1,
   "id": "f9bc42f5",
   "metadata": {},
   "outputs": [],
   "source": [
    "import sys\n",
    "import datetime\n",
    "from decimal import Decimal\n",
    "from snowflake.snowpark.session import Session\n",
    "sys.path.append('./test')\n",
    "from parameters import CONNECTION_PARAMETERS"
   ]
  },
  {
   "cell_type": "markdown",
   "id": "39a48b33",
   "metadata": {},
   "source": [
    "### Connect to Snowflake and run SQL in Snowflake"
   ]
  },
  {
   "cell_type": "code",
   "execution_count": 2,
   "id": "6b6a4a46",
   "metadata": {},
   "outputs": [
    {
     "name": "stdout",
     "output_type": "stream",
     "text": [
      "\"TESTDB_SNOWPARK_PYTHON\"\n",
      "\"TESTSCHEMA_SNOWPARK_PYTHON\"\n",
      "[Row[2021-08-04 20:01:56.052000-07:00,DEMO_TABLE,TESTDB_SNOWPARK_PYTHON,TESTSCHEMA_SNOWPARK_PYTHON,TABLE,,,3,1536,SYSADMIN,1,OFF,OFF,N]]\n"
     ]
    }
   ],
   "source": [
    "session = Session.builder.configs(CONNECTION_PARAMETERS).create()\n",
    "print(session.getCurrentDatabase())\n",
    "print(session.getCurrentSchema())\n",
    "print(session.sql('show tables').collect())"
   ]
  },
  {
   "cell_type": "markdown",
   "id": "fa39261b",
   "metadata": {},
   "source": [
    "### Create a dataframe in local environment and save it as a view in Snowflake"
   ]
  },
  {
   "cell_type": "code",
   "execution_count": 3,
   "id": "63cf3161",
   "metadata": {},
   "outputs": [
    {
     "name": "stdout",
     "output_type": "stream",
     "text": [
      "-----------------------------------------------------------------------------------------------------------------\n",
      "|\"COL1\"  |\"COL2\"  |\"COL3\"  |\"COL4\"                      |\"COL5\"  |\"COL6\"           |\"COL7\"  |\"COL8\"             |\n",
      "-----------------------------------------------------------------------------------------------------------------\n",
      "|0       |one     |1.0     |2021-08-05 03:06:54.739224  |True    |bytearray(b'a')  |[       |{                  |\n",
      "|        |        |        |                            |        |                 |  1,    |  \"snow\": \"flake\"  |\n",
      "|        |        |        |                            |        |                 |  2,    |}                  |\n",
      "|        |        |        |                            |        |                 |  3     |                   |\n",
      "|        |        |        |                            |        |                 |]       |                   |\n",
      "|0       |one     |1.0     |2021-08-05 03:06:54.739224  |True    |bytearray(b'a')  |[       |{                  |\n",
      "|        |        |        |                            |        |                 |  1,    |  \"snow\": \"flake\"  |\n",
      "|        |        |        |                            |        |                 |  2,    |}                  |\n",
      "|        |        |        |                            |        |                 |  3     |                   |\n",
      "|        |        |        |                            |        |                 |]       |                   |\n",
      "-----------------------------------------------------------------------------------------------------------------\n",
      "\n"
     ]
    }
   ],
   "source": [
    "data = [0, \"one\", 1.0, datetime.datetime.now(), True, bytearray(\"a\", \"utf-8\"), [1, 2, 3], {'snow': 'flake'}]\n",
    "col_names = [f\"col{i+1}\" for i in range(len(data))]\n",
    "df = session.createDataFrame([data, data]).toDF(col_names)\n",
    "df.show()"
   ]
  },
  {
   "cell_type": "code",
   "execution_count": 4,
   "id": "b3373763",
   "metadata": {},
   "outputs": [
    {
     "name": "stdout",
     "output_type": "stream",
     "text": [
      "[Row[0,one,1.0,2021-08-05 03:06:54.739224,True,bytearray(b'a'),[\n",
      "  1,\n",
      "  2,\n",
      "  3\n",
      "],{\n",
      "  \"snow\": \"flake\"\n",
      "}], Row[0,one,1.0,2021-08-05 03:06:54.739224,True,bytearray(b'a'),[\n",
      "  1,\n",
      "  2,\n",
      "  3\n",
      "],{\n",
      "  \"snow\": \"flake\"\n",
      "}]]\n"
     ]
    }
   ],
   "source": [
    "df.createOrReplaceView(\"demo_view\")\n",
    "print(session.sql('select * from demo_view').collect())"
   ]
  },
  {
   "cell_type": "markdown",
   "id": "d82e5a1a",
   "metadata": {},
   "source": [
    "### Create a table in Snowflake and save it as a table in local environment"
   ]
  },
  {
   "cell_type": "code",
   "execution_count": 5,
   "id": "8588fc94",
   "metadata": {},
   "outputs": [
    {
     "name": "stdout",
     "output_type": "stream",
     "text": [
      "[Row[1,1.0,one], Row[2,2.0,two], Row[3,3.0,three]]\n"
     ]
    }
   ],
   "source": [
    "session.sql(\"create or replace table demo_table(A number, B float, C text) \"\n",
    "            \"as select * from values(1, 1.0, 'one'), (2, 2.0, 'two'), (3, 3.0, 'three')\").collect()\n",
    "df = session.table(\"demo_table\")\n",
    "print(df.collect())"
   ]
  },
  {
   "cell_type": "markdown",
   "id": "3efbc7c1",
   "metadata": {},
   "source": [
    "### Select"
   ]
  },
  {
   "cell_type": "code",
   "execution_count": 6,
   "id": "c21f420c",
   "metadata": {},
   "outputs": [
    {
     "name": "stdout",
     "output_type": "stream",
     "text": [
      "[Row[1], Row[2], Row[3]]\n",
      "[Row[1,1.0,one], Row[2,2.0,two], Row[3,3.0,three]]\n"
     ]
    }
   ],
   "source": [
    "print(df.select(df[\"A\"]).collect())\n",
    "print(df.select(\"*\").collect())"
   ]
  },
  {
   "cell_type": "code",
   "execution_count": 7,
   "id": "56ac5dc2",
   "metadata": {},
   "outputs": [
    {
     "name": "stdout",
     "output_type": "stream",
     "text": [
      "[Row[-1], Row[-2], Row[-3]]\n",
      "[Row[True], Row[True], Row[True]]\n",
      "[Row[2.0], Row[4.0], Row[6.0]]\n",
      "[Row[1.0], Row[4.0], Row[27.0]]\n"
     ]
    }
   ],
   "source": [
    "print(df.select(-df[\"A\"]).collect())\n",
    "print(df.select(df[\"A\"] == df[\"B\"]).collect())\n",
    "print(df.select(df[\"A\"] + df[\"B\"]).collect())\n",
    "print(df.select(df[\"A\"] ** df[\"B\"]).collect())"
   ]
  },
  {
   "cell_type": "markdown",
   "id": "80991603",
   "metadata": {},
   "source": [
    "### Filter"
   ]
  },
  {
   "cell_type": "code",
   "execution_count": 8,
   "id": "fd6dddbf",
   "metadata": {},
   "outputs": [
    {
     "name": "stdout",
     "output_type": "stream",
     "text": [
      "[Row[2,2.0,two], Row[3,3.0,three]]\n",
      "[Row[1,1.0,one]]\n"
     ]
    }
   ],
   "source": [
    "print(df.filter(df[\"A\"] > 1).collect())\n",
    "print(df.where(df[\"C\"] == \"one\").collect())"
   ]
  },
  {
   "cell_type": "markdown",
   "id": "baf5e004",
   "metadata": {},
   "source": [
    "### Drop"
   ]
  },
  {
   "cell_type": "code",
   "execution_count": 9,
   "id": "98959d22",
   "metadata": {},
   "outputs": [
    {
     "name": "stdout",
     "output_type": "stream",
     "text": [
      "[Row[1,1.0], Row[2,2.0], Row[3,3.0]]\n"
     ]
    }
   ],
   "source": [
    "print(df.drop(\"C\").collect())"
   ]
  },
  {
   "cell_type": "markdown",
   "id": "62f248c1",
   "metadata": {},
   "source": [
    "### Join, Union and Intersect"
   ]
  },
  {
   "cell_type": "code",
   "execution_count": 10,
   "id": "ffd8d39c",
   "metadata": {},
   "outputs": [
    {
     "name": "stdout",
     "output_type": "stream",
     "text": [
      "[Row[3], Row[4], Row[5], Row[6], Row[7]]\n",
      "[Row[5], Row[6], Row[7], Row[8], Row[9]]\n"
     ]
    }
   ],
   "source": [
    "df1 = session.range(3, 8)\n",
    "df2 = session.range(5, 10)\n",
    "print(df1.collect())\n",
    "print(df2.collect())"
   ]
  },
  {
   "cell_type": "code",
   "execution_count": 11,
   "id": "50eb00e5",
   "metadata": {
    "scrolled": true
   },
   "outputs": [
    {
     "name": "stdout",
     "output_type": "stream",
     "text": [
      "[Row[5], Row[6], Row[7]]\n",
      "[Row[5], Row[6], Row[7]]\n"
     ]
    }
   ],
   "source": [
    "print(df1.join(df2, \"id\").collect())\n",
    "print(df1.join(df2, \"id\", \"inner\").collect())"
   ]
  },
  {
   "cell_type": "code",
   "execution_count": 12,
   "id": "c3fb2729",
   "metadata": {},
   "outputs": [
    {
     "name": "stdout",
     "output_type": "stream",
     "text": [
      "[Row[4], Row[3]]\n"
     ]
    }
   ],
   "source": [
    "print(df1.join(df2, \"id\", \"left_anti\").collect())"
   ]
  },
  {
   "cell_type": "code",
   "execution_count": 13,
   "id": "a986cbd2",
   "metadata": {},
   "outputs": [
    {
     "name": "stdout",
     "output_type": "stream",
     "text": [
      "[Row[5], Row[6], Row[7], Row[4], Row[3]]\n"
     ]
    }
   ],
   "source": [
    "print(df1.join(df2, \"id\", \"left_outer\").collect())"
   ]
  },
  {
   "cell_type": "code",
   "execution_count": 14,
   "id": "24c8492a",
   "metadata": {},
   "outputs": [
    {
     "name": "stdout",
     "output_type": "stream",
     "text": [
      "[Row[5], Row[6], Row[7], Row[9], Row[8]]\n"
     ]
    }
   ],
   "source": [
    "print(df1.join(df2, \"id\", \"right_outer\").collect())"
   ]
  },
  {
   "cell_type": "code",
   "execution_count": 15,
   "id": "9974f10e",
   "metadata": {},
   "outputs": [
    {
     "name": "stdout",
     "output_type": "stream",
     "text": [
      "[Row[5], Row[6], Row[7], Row[8], Row[9], Row[4], Row[3]]\n"
     ]
    }
   ],
   "source": [
    "print(df1.join(df2, \"id\", \"outer\").collect())"
   ]
  },
  {
   "cell_type": "code",
   "execution_count": 16,
   "id": "4c21e5b8",
   "metadata": {},
   "outputs": [
    {
     "name": "stdout",
     "output_type": "stream",
     "text": [
      "[Row[3,5], Row[3,6], Row[3,7], Row[3,8], Row[3,9], Row[4,5], Row[4,6], Row[4,7], Row[4,8], Row[4,9], Row[5,5], Row[5,6], Row[5,7], Row[5,8], Row[5,9], Row[6,5], Row[6,6], Row[6,7], Row[6,8], Row[6,9], Row[7,5], Row[7,6], Row[7,7], Row[7,8], Row[7,9]]\n"
     ]
    }
   ],
   "source": [
    "print(df1.crossJoin(df2).collect())"
   ]
  },
  {
   "cell_type": "code",
   "execution_count": 17,
   "id": "abc52173",
   "metadata": {},
   "outputs": [
    {
     "name": "stdout",
     "output_type": "stream",
     "text": [
      "[Row[3], Row[4], Row[5], Row[6], Row[7], Row[5], Row[6], Row[7], Row[8], Row[9]]\n",
      "[Row[7], Row[6], Row[5]]\n"
     ]
    }
   ],
   "source": [
    "print(df1.union(df2).collect())\n",
    "print(df1.intersect(df2).collect())"
   ]
  },
  {
   "cell_type": "code",
   "execution_count": 18,
   "id": "74fb3017",
   "metadata": {},
   "outputs": [
    {
     "name": "stdout",
     "output_type": "stream",
     "text": [
      "[Row[1,2,one], Row[2,3,two], Row[3,4,three]]\n"
     ]
    }
   ],
   "source": [
    "df3 = session.sql(\"select * from values(1, 2),(2, 3),(3, 4) as T(c1, c2)\")\n",
    "df4 = session.sql(\"select * from values(1, 'one'),(2, 'two'),(3, 'three') as T(c1, c3)\")\n",
    "print(df3.naturalJoin(df4).collect())"
   ]
  },
  {
   "cell_type": "markdown",
   "id": "c1cba575",
   "metadata": {},
   "source": [
    "### Sort"
   ]
  },
  {
   "cell_type": "code",
   "execution_count": 19,
   "id": "92ae535e",
   "metadata": {},
   "outputs": [
    {
     "name": "stdout",
     "output_type": "stream",
     "text": [
      "[Row[1,2], Row[2,3], Row[3,4]]\n"
     ]
    }
   ],
   "source": [
    "print(df3.collect())"
   ]
  },
  {
   "cell_type": "code",
   "execution_count": 20,
   "id": "495fb0e4",
   "metadata": {},
   "outputs": [
    {
     "name": "stdout",
     "output_type": "stream",
     "text": [
      "[Row[3,4], Row[2,3], Row[1,2]]\n",
      "[Row[3,4], Row[2,3], Row[1,2]]\n"
     ]
    }
   ],
   "source": [
    "print(df3.sort(df3[\"c1\"].desc()).collect())\n",
    "print(df3.sort(\"c1\", ascending=False).collect())"
   ]
  },
  {
   "cell_type": "markdown",
   "id": "4f78de3f",
   "metadata": {},
   "source": [
    "### Agg"
   ]
  },
  {
   "cell_type": "code",
   "execution_count": 21,
   "id": "ee1c61b6",
   "metadata": {},
   "outputs": [
    {
     "name": "stdout",
     "output_type": "stream",
     "text": [
      "[Row[1]]\n",
      "[Row[4]]\n",
      "[Row[2]]\n",
      "[Row[1.500000]]\n",
      "[Row[0.577349980514419]]\n",
      "[Row[1,4,2,1.500000,0.577349980514419]]\n"
     ]
    }
   ],
   "source": [
    "df5 = session.createDataFrame([[1, 4], [1, 4], [2, 5], [2, 6]]).toDF([\"first\", \"second\"])\n",
    "print(df5.agg([(\"first\", \"min\")]).collect())\n",
    "print(df5.agg([(\"first\", \"count\")]).collect())\n",
    "print(df5.agg([(\"first\", \"max\")]).collect())\n",
    "print(df5.agg([(\"first\", \"avg\")]).collect())\n",
    "print(df5.agg([(\"first\", \"std\")]).collect())\n",
    "print(df5.agg([(\"first\", \"min\"), (\"first\", \"count\"), (\"first\", \"max\"),\n",
    "               (\"first\", \"avg\"), (\"first\", \"std\")]).collect())"
   ]
  },
  {
   "cell_type": "markdown",
   "id": "ccb75a5d",
   "metadata": {},
   "source": [
    "### Convert a Snowflake table to a local Pandas dataframe"
   ]
  },
  {
   "cell_type": "code",
   "execution_count": 22,
   "id": "8bb0e74c",
   "metadata": {
    "scrolled": true
   },
   "outputs": [
    {
     "name": "stdout",
     "output_type": "stream",
     "text": [
      "[Row[1,1.0,one], Row[2,2.0,two], Row[3,3.0,three]]\n"
     ]
    }
   ],
   "source": [
    "df = session.table(\"demo_table\")\n",
    "print(df.collect())"
   ]
  },
  {
   "cell_type": "code",
   "execution_count": 23,
   "id": "e1b21785",
   "metadata": {},
   "outputs": [
    {
     "data": {
      "text/html": [
       "<div>\n",
       "<style scoped>\n",
       "    .dataframe tbody tr th:only-of-type {\n",
       "        vertical-align: middle;\n",
       "    }\n",
       "\n",
       "    .dataframe tbody tr th {\n",
       "        vertical-align: top;\n",
       "    }\n",
       "\n",
       "    .dataframe thead th {\n",
       "        text-align: right;\n",
       "    }\n",
       "</style>\n",
       "<table border=\"1\" class=\"dataframe\">\n",
       "  <thead>\n",
       "    <tr style=\"text-align: right;\">\n",
       "      <th></th>\n",
       "      <th>double(A)</th>\n",
       "      <th>B^5</th>\n",
       "      <th>string(B)</th>\n",
       "      <th>C=='two'</th>\n",
       "    </tr>\n",
       "  </thead>\n",
       "  <tbody>\n",
       "    <tr>\n",
       "      <th>0</th>\n",
       "      <td>1.0</td>\n",
       "      <td>1.0</td>\n",
       "      <td>1</td>\n",
       "      <td>False</td>\n",
       "    </tr>\n",
       "    <tr>\n",
       "      <th>1</th>\n",
       "      <td>2.0</td>\n",
       "      <td>32.0</td>\n",
       "      <td>2</td>\n",
       "      <td>True</td>\n",
       "    </tr>\n",
       "    <tr>\n",
       "      <th>2</th>\n",
       "      <td>3.0</td>\n",
       "      <td>243.0</td>\n",
       "      <td>3</td>\n",
       "      <td>False</td>\n",
       "    </tr>\n",
       "  </tbody>\n",
       "</table>\n",
       "</div>"
      ],
      "text/plain": [
       "   double(A)    B^5 string(B)  C=='two'\n",
       "0        1.0    1.0         1     False\n",
       "1        2.0   32.0         2      True\n",
       "2        3.0  243.0         3     False"
      ]
     },
     "execution_count": 23,
     "metadata": {},
     "output_type": "execute_result"
    }
   ],
   "source": [
    "from snowflake.snowpark.types.sf_types import StringType, FloatType\n",
    "df.select(df['A'].cast(FloatType()),\n",
    "          df['B'] ** 5,\n",
    "          df['B'].cast(StringType()),\n",
    "          df['C'] == 'two').toDF([\"double(A)\", \"B^5\", \"string(B)\", \"C=='two'\"]).toPandas().head()"
   ]
  },
  {
   "cell_type": "markdown",
   "id": "6dcc7b40",
   "metadata": {},
   "source": [
    "### UDF"
   ]
  },
  {
   "cell_type": "code",
   "execution_count": 24,
   "id": "d07432f1",
   "metadata": {},
   "outputs": [],
   "source": [
    "from snowflake.snowpark.functions import udf\n",
    "from snowflake.snowpark.types.sf_types import IntegerType\n",
    "\n",
    "def square(x):\n",
    "    return x * x\n",
    "\n",
    "def cube(x):\n",
    "    return square(x) * x\n",
    "\n",
    "square_udf = udf(square, return_type=IntegerType(), input_types=[IntegerType()])\n",
    "cube_udf = udf(cube, return_type=IntegerType(), input_types=[IntegerType()], name=\"cube\")\n",
    "add_udf = udf(lambda x, y: x + y, return_type=IntegerType(), input_types=[IntegerType(), IntegerType()])"
   ]
  },
  {
   "cell_type": "code",
   "execution_count": 25,
   "id": "24fa3fd7",
   "metadata": {},
   "outputs": [
    {
     "name": "stdout",
     "output_type": "stream",
     "text": [
      "[Row[1,1,1,2], Row[2,4,8,12], Row[3,9,27,36]]\n"
     ]
    }
   ],
   "source": [
    "df = session.createDataFrame([1, 2, 3]).toDF(\"a\")\n",
    "print(df.select(\"a\", square_udf(\"a\"), cube_udf(\"a\"), add_udf(square_udf(\"a\"), cube_udf(\"a\"))).collect())"
   ]
  },
  {
   "cell_type": "code",
   "execution_count": 26,
   "id": "35d1a8a5",
   "metadata": {},
   "outputs": [
    {
     "name": "stdout",
     "output_type": "stream",
     "text": [
      "[Row[512]]\n"
     ]
    }
   ],
   "source": [
    "print(session.sql(\"select cube(8)\").collect())"
   ]
  },
  {
   "cell_type": "markdown",
   "id": "5fc25afb",
   "metadata": {},
   "source": [
    "### Import dependency"
   ]
  },
  {
   "cell_type": "code",
   "execution_count": 27,
   "id": "e86f72d2",
   "metadata": {},
   "outputs": [
    {
     "name": "stderr",
     "output_type": "stream",
     "text": [
      "Failed to execute query \n",
      "CREATE TEMPORARY FUNCTION \"TESTDB_SNOWPARK_PYTHON\".\"TESTSCHEMA_SNOWPARK_PYTHON\".tempUDF_851669829(arg1 INT)\n",
      "RETURNS FLOAT\n",
      "LANGUAGE PYTHON\n",
      "IMPORTS = ('@\"TESTDB_SNOWPARK_PYTHON\".\"TESTSCHEMA_SNOWPARK_PYTHON\".snowSession_158342692941058/cloudpickle.zip','@\"TESTDB_SNOWPARK_PYTHON\".\"TESTSCHEMA_SNOWPARK_PYTHON\".snowSession_158342692941058/TESTDB_SNOWPARK_PYTHONTESTSCHEMA_SNOWPARK_PYTHONtempUDF_851669829_7713512417826232701/udf_py_1651678294.zip')\n",
      "HANDLER='udf_py_1651678294.compute'\n",
      "\n",
      "100357 (P0000): Python Interpreter Error:\n",
      "ModuleNotFoundError: No module named 'test_udf' in function TEMPUDF_851669829 with handler udf_py_1651678294.compute\n"
     ]
    },
    {
     "ename": "ProgrammingError",
     "evalue": "100357 (P0000): Python Interpreter Error:\nModuleNotFoundError: No module named 'test_udf' in function TEMPUDF_851669829 with handler udf_py_1651678294.compute",
     "output_type": "error",
     "traceback": [
      "\u001b[0;31m---------------------------------------------------------------------------\u001b[0m",
      "\u001b[0;31mProgrammingError\u001b[0m                          Traceback (most recent call last)",
      "\u001b[0;32m<ipython-input-27-d168c252d138>\u001b[0m in \u001b[0;36m<module>\u001b[0;34m\u001b[0m\n\u001b[1;32m      7\u001b[0m \u001b[0;34m\u001b[0m\u001b[0m\n\u001b[1;32m      8\u001b[0m \u001b[0;34m\u001b[0m\u001b[0m\n\u001b[0;32m----> 9\u001b[0;31m \u001b[0msqrt_factorial_udf\u001b[0m \u001b[0;34m=\u001b[0m \u001b[0mudf\u001b[0m\u001b[0;34m(\u001b[0m\u001b[0msqrt_factorial\u001b[0m\u001b[0;34m,\u001b[0m \u001b[0mreturn_type\u001b[0m\u001b[0;34m=\u001b[0m\u001b[0mFloatType\u001b[0m\u001b[0;34m(\u001b[0m\u001b[0;34m)\u001b[0m\u001b[0;34m,\u001b[0m \u001b[0minput_types\u001b[0m\u001b[0;34m=\u001b[0m\u001b[0;34m[\u001b[0m\u001b[0mIntegerType\u001b[0m\u001b[0;34m(\u001b[0m\u001b[0;34m)\u001b[0m\u001b[0;34m]\u001b[0m\u001b[0;34m)\u001b[0m\u001b[0;34m\u001b[0m\u001b[0;34m\u001b[0m\u001b[0m\n\u001b[0m",
      "\u001b[0;32m~/Snowflake/snowflake-connector-python/venv/lib/python3.6/site-packages/snowflake/snowpark/functions.py\u001b[0m in \u001b[0;36mudf\u001b[0;34m(func, return_type, input_types, name, stage_location)\u001b[0m\n\u001b[1;32m    215\u001b[0m         \u001b[0m__create_udf\u001b[0m\u001b[0;34m(\u001b[0m\u001b[0mfunc\u001b[0m\u001b[0;34m,\u001b[0m \u001b[0mreturn_type\u001b[0m\u001b[0;34m=\u001b[0m\u001b[0mreturn_type\u001b[0m\u001b[0;34m,\u001b[0m \u001b[0minput_types\u001b[0m\u001b[0;34m=\u001b[0m\u001b[0minput_types\u001b[0m\u001b[0;34m)\u001b[0m\u001b[0;34m,\u001b[0m\u001b[0;34m\u001b[0m\u001b[0;34m\u001b[0m\u001b[0m\n\u001b[1;32m    216\u001b[0m         \u001b[0mname\u001b[0m\u001b[0;34m=\u001b[0m\u001b[0mname\u001b[0m\u001b[0;34m,\u001b[0m\u001b[0;34m\u001b[0m\u001b[0;34m\u001b[0m\u001b[0m\n\u001b[0;32m--> 217\u001b[0;31m         \u001b[0mstage_location\u001b[0m\u001b[0;34m=\u001b[0m\u001b[0mstage_location\u001b[0m\u001b[0;34m,\u001b[0m\u001b[0;34m\u001b[0m\u001b[0;34m\u001b[0m\u001b[0m\n\u001b[0m\u001b[1;32m    218\u001b[0m     )\n\u001b[1;32m    219\u001b[0m \u001b[0;34m\u001b[0m\u001b[0m\n",
      "\u001b[0;32m~/Snowflake/snowflake-connector-python/venv/lib/python3.6/site-packages/snowflake/snowpark/udf.py\u001b[0m in \u001b[0;36mregister\u001b[0;34m(self, udf, name, stage_location)\u001b[0m\n\u001b[1;32m     80\u001b[0m         \u001b[0mUtils\u001b[0m\u001b[0;34m.\u001b[0m\u001b[0mvalidate_object_name\u001b[0m\u001b[0;34m(\u001b[0m\u001b[0mudf_name\u001b[0m\u001b[0;34m)\u001b[0m\u001b[0;34m\u001b[0m\u001b[0;34m\u001b[0m\u001b[0m\n\u001b[1;32m     81\u001b[0m         self.__do_register_udf(\n\u001b[0;32m---> 82\u001b[0;31m             \u001b[0mudf\u001b[0m\u001b[0;34m.\u001b[0m\u001b[0mfunc\u001b[0m\u001b[0;34m,\u001b[0m \u001b[0mudf\u001b[0m\u001b[0;34m.\u001b[0m\u001b[0mreturn_type\u001b[0m\u001b[0;34m,\u001b[0m \u001b[0mudf\u001b[0m\u001b[0;34m.\u001b[0m\u001b[0minput_types\u001b[0m\u001b[0;34m,\u001b[0m \u001b[0mudf_name\u001b[0m\u001b[0;34m,\u001b[0m \u001b[0mstage_location\u001b[0m\u001b[0;34m\u001b[0m\u001b[0;34m\u001b[0m\u001b[0m\n\u001b[0m\u001b[1;32m     83\u001b[0m         )\n\u001b[1;32m     84\u001b[0m         \u001b[0;32mreturn\u001b[0m \u001b[0mudf\u001b[0m\u001b[0;34m.\u001b[0m\u001b[0mwithName\u001b[0m\u001b[0;34m(\u001b[0m\u001b[0mudf_name\u001b[0m\u001b[0;34m)\u001b[0m\u001b[0;34m\u001b[0m\u001b[0;34m\u001b[0m\u001b[0m\n",
      "\u001b[0;32m~/Snowflake/snowflake-connector-python/venv/lib/python3.6/site-packages/snowflake/snowpark/udf.py\u001b[0m in \u001b[0;36m__do_register_udf\u001b[0;34m(self, func, return_type, input_types, udf_name, stage_location)\u001b[0m\n\u001b[1;32m    137\u001b[0m             \u001b[0mudf_name\u001b[0m\u001b[0;34m=\u001b[0m\u001b[0mudf_name\u001b[0m\u001b[0;34m,\u001b[0m\u001b[0;34m\u001b[0m\u001b[0;34m\u001b[0m\u001b[0m\n\u001b[1;32m    138\u001b[0m             \u001b[0mall_imports\u001b[0m\u001b[0;34m=\u001b[0m\u001b[0mall_imports\u001b[0m\u001b[0;34m,\u001b[0m\u001b[0;34m\u001b[0m\u001b[0;34m\u001b[0m\u001b[0m\n\u001b[0;32m--> 139\u001b[0;31m             \u001b[0mis_temporary\u001b[0m\u001b[0;34m=\u001b[0m\u001b[0mstage_location\u001b[0m \u001b[0;32mis\u001b[0m \u001b[0;32mNone\u001b[0m\u001b[0;34m,\u001b[0m\u001b[0;34m\u001b[0m\u001b[0;34m\u001b[0m\u001b[0m\n\u001b[0m\u001b[1;32m    140\u001b[0m         )\n\u001b[1;32m    141\u001b[0m \u001b[0;34m\u001b[0m\u001b[0m\n",
      "\u001b[0;32m~/Snowflake/snowflake-connector-python/venv/lib/python3.6/site-packages/snowflake/snowpark/udf.py\u001b[0m in \u001b[0;36m__create_python_udf\u001b[0;34m(self, return_type, input_args, py_file_name, udf_name, all_imports, is_temporary)\u001b[0m\n\u001b[1;32m    174\u001b[0m \u001b[0mHANDLER\u001b[0m\u001b[0;34m=\u001b[0m\u001b[0;34m'{py_file_name.split(\".\")[0]}.compute'\u001b[0m\u001b[0;34m\u001b[0m\u001b[0;34m\u001b[0m\u001b[0m\n\u001b[1;32m    175\u001b[0m \"\"\"\n\u001b[0;32m--> 176\u001b[0;31m         \u001b[0mself\u001b[0m\u001b[0;34m.\u001b[0m\u001b[0msession\u001b[0m\u001b[0;34m.\u001b[0m\u001b[0m_run_query\u001b[0m\u001b[0;34m(\u001b[0m\u001b[0mcreate_udf_query\u001b[0m\u001b[0;34m)\u001b[0m\u001b[0;34m\u001b[0m\u001b[0;34m\u001b[0m\u001b[0m\n\u001b[0m",
      "\u001b[0;32m~/Snowflake/snowflake-connector-python/venv/lib/python3.6/site-packages/snowflake/snowpark/session.py\u001b[0m in \u001b[0;36m_run_query\u001b[0;34m(self, query)\u001b[0m\n\u001b[1;32m    275\u001b[0m \u001b[0;34m\u001b[0m\u001b[0m\n\u001b[1;32m    276\u001b[0m     \u001b[0;32mdef\u001b[0m \u001b[0m_run_query\u001b[0m\u001b[0;34m(\u001b[0m\u001b[0mself\u001b[0m\u001b[0;34m,\u001b[0m \u001b[0mquery\u001b[0m\u001b[0;34m)\u001b[0m\u001b[0;34m:\u001b[0m\u001b[0;34m\u001b[0m\u001b[0;34m\u001b[0m\u001b[0m\n\u001b[0;32m--> 277\u001b[0;31m         \u001b[0;32mreturn\u001b[0m \u001b[0mself\u001b[0m\u001b[0;34m.\u001b[0m\u001b[0mconn\u001b[0m\u001b[0;34m.\u001b[0m\u001b[0mrun_query\u001b[0m\u001b[0;34m(\u001b[0m\u001b[0mquery\u001b[0m\u001b[0;34m)\u001b[0m\u001b[0;34m[\u001b[0m\u001b[0;34m\"data\"\u001b[0m\u001b[0;34m]\u001b[0m\u001b[0;34m\u001b[0m\u001b[0;34m\u001b[0m\u001b[0m\n\u001b[0m\u001b[1;32m    278\u001b[0m \u001b[0;34m\u001b[0m\u001b[0m\n\u001b[1;32m    279\u001b[0m     \u001b[0;32mdef\u001b[0m \u001b[0m_get_result_attributes\u001b[0m\u001b[0;34m(\u001b[0m\u001b[0mself\u001b[0m\u001b[0;34m,\u001b[0m \u001b[0mquery\u001b[0m\u001b[0;34m:\u001b[0m \u001b[0mstr\u001b[0m\u001b[0;34m)\u001b[0m \u001b[0;34m->\u001b[0m \u001b[0mList\u001b[0m\u001b[0;34m[\u001b[0m\u001b[0;34m\"Attribute\"\u001b[0m\u001b[0;34m]\u001b[0m\u001b[0;34m:\u001b[0m\u001b[0;34m\u001b[0m\u001b[0;34m\u001b[0m\u001b[0m\n",
      "\u001b[0;32m~/Snowflake/snowflake-connector-python/venv/lib/python3.6/site-packages/snowflake/snowpark/internal/server_connection.py\u001b[0m in \u001b[0;36mwrap\u001b[0;34m(*args, **kwargs)\u001b[0m\n\u001b[1;32m     53\u001b[0m                 \u001b[0;32mexcept\u001b[0m \u001b[0mException\u001b[0m \u001b[0;32mas\u001b[0m \u001b[0mex\u001b[0m\u001b[0;34m:\u001b[0m\u001b[0;34m\u001b[0m\u001b[0;34m\u001b[0m\u001b[0m\n\u001b[1;32m     54\u001b[0m                     \u001b[0;31m# TODO: SNOW-363951 handle telemetry\u001b[0m\u001b[0;34m\u001b[0m\u001b[0;34m\u001b[0m\u001b[0;34m\u001b[0m\u001b[0m\n\u001b[0;32m---> 55\u001b[0;31m                     \u001b[0;32mraise\u001b[0m \u001b[0mex\u001b[0m\u001b[0;34m\u001b[0m\u001b[0;34m\u001b[0m\u001b[0m\n\u001b[0m\u001b[1;32m     56\u001b[0m \u001b[0;34m\u001b[0m\u001b[0m\n\u001b[1;32m     57\u001b[0m             \u001b[0;32mreturn\u001b[0m \u001b[0mwrap\u001b[0m\u001b[0;34m\u001b[0m\u001b[0;34m\u001b[0m\u001b[0m\n",
      "\u001b[0;32m~/Snowflake/snowflake-connector-python/venv/lib/python3.6/site-packages/snowflake/snowpark/internal/server_connection.py\u001b[0m in \u001b[0;36mwrap\u001b[0;34m(*args, **kwargs)\u001b[0m\n\u001b[1;32m     45\u001b[0m             \u001b[0;32mdef\u001b[0m \u001b[0mwrap\u001b[0m\u001b[0;34m(\u001b[0m\u001b[0;34m*\u001b[0m\u001b[0margs\u001b[0m\u001b[0;34m,\u001b[0m \u001b[0;34m**\u001b[0m\u001b[0mkwargs\u001b[0m\u001b[0;34m)\u001b[0m\u001b[0;34m:\u001b[0m\u001b[0;34m\u001b[0m\u001b[0;34m\u001b[0m\u001b[0m\n\u001b[1;32m     46\u001b[0m                 \u001b[0;32mtry\u001b[0m\u001b[0;34m:\u001b[0m\u001b[0;34m\u001b[0m\u001b[0;34m\u001b[0m\u001b[0m\n\u001b[0;32m---> 47\u001b[0;31m                     \u001b[0;32mreturn\u001b[0m \u001b[0mfunc\u001b[0m\u001b[0;34m(\u001b[0m\u001b[0;34m*\u001b[0m\u001b[0margs\u001b[0m\u001b[0;34m,\u001b[0m \u001b[0;34m**\u001b[0m\u001b[0mkwargs\u001b[0m\u001b[0;34m)\u001b[0m\u001b[0;34m\u001b[0m\u001b[0;34m\u001b[0m\u001b[0m\n\u001b[0m\u001b[1;32m     48\u001b[0m                 \u001b[0;32mexcept\u001b[0m \u001b[0mReauthenticationRequest\u001b[0m \u001b[0;32mas\u001b[0m \u001b[0mex\u001b[0m\u001b[0;34m:\u001b[0m\u001b[0;34m\u001b[0m\u001b[0;34m\u001b[0m\u001b[0m\n\u001b[1;32m     49\u001b[0m                     raise SnowparkClientException(\n",
      "\u001b[0;32m~/Snowflake/snowflake-connector-python/venv/lib/python3.6/site-packages/snowflake/snowpark/internal/server_connection.py\u001b[0m in \u001b[0;36mrun_query\u001b[0;34m(self, query, to_pandas, **kwargs)\u001b[0m\n\u001b[1;32m    313\u001b[0m         \u001b[0;32mexcept\u001b[0m \u001b[0mException\u001b[0m \u001b[0;32mas\u001b[0m \u001b[0mex\u001b[0m\u001b[0;34m:\u001b[0m\u001b[0;34m\u001b[0m\u001b[0;34m\u001b[0m\u001b[0m\n\u001b[1;32m    314\u001b[0m             \u001b[0mlogger\u001b[0m\u001b[0;34m.\u001b[0m\u001b[0merror\u001b[0m\u001b[0;34m(\u001b[0m\u001b[0;34m\"Failed to execute query {}\\n{}\"\u001b[0m\u001b[0;34m.\u001b[0m\u001b[0mformat\u001b[0m\u001b[0;34m(\u001b[0m\u001b[0mquery\u001b[0m\u001b[0;34m,\u001b[0m \u001b[0mex\u001b[0m\u001b[0;34m)\u001b[0m\u001b[0;34m)\u001b[0m\u001b[0;34m\u001b[0m\u001b[0;34m\u001b[0m\u001b[0m\n\u001b[0;32m--> 315\u001b[0;31m             \u001b[0;32mraise\u001b[0m \u001b[0mex\u001b[0m\u001b[0;34m\u001b[0m\u001b[0;34m\u001b[0m\u001b[0m\n\u001b[0m\u001b[1;32m    316\u001b[0m         \u001b[0;32mif\u001b[0m \u001b[0mto_pandas\u001b[0m\u001b[0;34m:\u001b[0m\u001b[0;34m\u001b[0m\u001b[0;34m\u001b[0m\u001b[0m\n\u001b[1;32m    317\u001b[0m             \u001b[0mdata\u001b[0m \u001b[0;34m=\u001b[0m \u001b[0mresults_cursor\u001b[0m\u001b[0;34m.\u001b[0m\u001b[0mfetch_pandas_all\u001b[0m\u001b[0;34m(\u001b[0m\u001b[0;34m)\u001b[0m\u001b[0;34m\u001b[0m\u001b[0;34m\u001b[0m\u001b[0m\n",
      "\u001b[0;32m~/Snowflake/snowflake-connector-python/venv/lib/python3.6/site-packages/snowflake/snowpark/internal/server_connection.py\u001b[0m in \u001b[0;36mrun_query\u001b[0;34m(self, query, to_pandas, **kwargs)\u001b[0m\n\u001b[1;32m    307\u001b[0m     \u001b[0;32mdef\u001b[0m \u001b[0mrun_query\u001b[0m\u001b[0;34m(\u001b[0m\u001b[0mself\u001b[0m\u001b[0;34m,\u001b[0m \u001b[0mquery\u001b[0m\u001b[0;34m,\u001b[0m \u001b[0mto_pandas\u001b[0m\u001b[0;34m=\u001b[0m\u001b[0;32mFalse\u001b[0m\u001b[0;34m,\u001b[0m \u001b[0;34m**\u001b[0m\u001b[0mkwargs\u001b[0m\u001b[0;34m)\u001b[0m\u001b[0;34m:\u001b[0m\u001b[0;34m\u001b[0m\u001b[0;34m\u001b[0m\u001b[0m\n\u001b[1;32m    308\u001b[0m         \u001b[0;32mtry\u001b[0m\u001b[0;34m:\u001b[0m\u001b[0;34m\u001b[0m\u001b[0;34m\u001b[0m\u001b[0m\n\u001b[0;32m--> 309\u001b[0;31m             \u001b[0mresults_cursor\u001b[0m \u001b[0;34m=\u001b[0m \u001b[0mself\u001b[0m\u001b[0;34m.\u001b[0m\u001b[0m_cursor\u001b[0m\u001b[0;34m.\u001b[0m\u001b[0mexecute\u001b[0m\u001b[0;34m(\u001b[0m\u001b[0mquery\u001b[0m\u001b[0;34m,\u001b[0m \u001b[0;34m**\u001b[0m\u001b[0mkwargs\u001b[0m\u001b[0;34m)\u001b[0m\u001b[0;34m\u001b[0m\u001b[0;34m\u001b[0m\u001b[0m\n\u001b[0m\u001b[1;32m    310\u001b[0m             logger.info(\n\u001b[1;32m    311\u001b[0m                 \u001b[0;34m\"Execute query [queryID: {}] {}\"\u001b[0m\u001b[0;34m.\u001b[0m\u001b[0mformat\u001b[0m\u001b[0;34m(\u001b[0m\u001b[0mresults_cursor\u001b[0m\u001b[0;34m.\u001b[0m\u001b[0msfqid\u001b[0m\u001b[0;34m,\u001b[0m \u001b[0mquery\u001b[0m\u001b[0;34m)\u001b[0m\u001b[0;34m\u001b[0m\u001b[0;34m\u001b[0m\u001b[0m\n",
      "\u001b[0;32m~/Snowflake/snowflake-connector-python/venv/lib64/python3.6/site-packages/snowflake/connector/cursor.py\u001b[0m in \u001b[0;36mexecute\u001b[0;34m(self, command, params, _bind_stage, timeout, _exec_async, _do_reset, _put_callback, _put_azure_callback, _put_callback_output_stream, _get_callback, _get_azure_callback, _get_callback_output_stream, _show_progress_bar, _statement_params, _is_internal, _describe_only, _no_results, _use_ijson, _is_put_get, _raise_put_get_error, _force_put_overwrite, file_stream)\u001b[0m\n\u001b[1;32m    720\u001b[0m             }\n\u001b[1;32m    721\u001b[0m             Error.errorhandler_wrapper(\n\u001b[0;32m--> 722\u001b[0;31m                 \u001b[0mself\u001b[0m\u001b[0;34m.\u001b[0m\u001b[0mconnection\u001b[0m\u001b[0;34m,\u001b[0m \u001b[0mself\u001b[0m\u001b[0;34m,\u001b[0m \u001b[0mProgrammingError\u001b[0m\u001b[0;34m,\u001b[0m \u001b[0merrvalue\u001b[0m\u001b[0;34m\u001b[0m\u001b[0;34m\u001b[0m\u001b[0m\n\u001b[0m\u001b[1;32m    723\u001b[0m             )\n\u001b[1;32m    724\u001b[0m         \u001b[0;32mreturn\u001b[0m \u001b[0mself\u001b[0m\u001b[0;34m\u001b[0m\u001b[0;34m\u001b[0m\u001b[0m\n",
      "\u001b[0;32m~/Snowflake/snowflake-connector-python/venv/lib64/python3.6/site-packages/snowflake/connector/errors.py\u001b[0m in \u001b[0;36merrorhandler_wrapper\u001b[0;34m(connection, cursor, error_class, error_value)\u001b[0m\n\u001b[1;32m    256\u001b[0m         \u001b[0;32mif\u001b[0m \u001b[0mcursor\u001b[0m \u001b[0;32mis\u001b[0m \u001b[0;32mnot\u001b[0m \u001b[0;32mNone\u001b[0m\u001b[0;34m:\u001b[0m\u001b[0;34m\u001b[0m\u001b[0;34m\u001b[0m\u001b[0m\n\u001b[1;32m    257\u001b[0m             \u001b[0mcursor\u001b[0m\u001b[0;34m.\u001b[0m\u001b[0mmessages\u001b[0m\u001b[0;34m.\u001b[0m\u001b[0mappend\u001b[0m\u001b[0;34m(\u001b[0m\u001b[0;34m(\u001b[0m\u001b[0merror_class\u001b[0m\u001b[0;34m,\u001b[0m \u001b[0merror_value\u001b[0m\u001b[0;34m)\u001b[0m\u001b[0;34m)\u001b[0m\u001b[0;34m\u001b[0m\u001b[0;34m\u001b[0m\u001b[0m\n\u001b[0;32m--> 258\u001b[0;31m             \u001b[0mcursor\u001b[0m\u001b[0;34m.\u001b[0m\u001b[0merrorhandler\u001b[0m\u001b[0;34m(\u001b[0m\u001b[0mconnection\u001b[0m\u001b[0;34m,\u001b[0m \u001b[0mcursor\u001b[0m\u001b[0;34m,\u001b[0m \u001b[0merror_class\u001b[0m\u001b[0;34m,\u001b[0m \u001b[0merror_value\u001b[0m\u001b[0;34m)\u001b[0m\u001b[0;34m\u001b[0m\u001b[0;34m\u001b[0m\u001b[0m\n\u001b[0m\u001b[1;32m    259\u001b[0m             \u001b[0;32mreturn\u001b[0m\u001b[0;34m\u001b[0m\u001b[0;34m\u001b[0m\u001b[0m\n\u001b[1;32m    260\u001b[0m         \u001b[0;32melif\u001b[0m \u001b[0mconnection\u001b[0m \u001b[0;32mis\u001b[0m \u001b[0;32mnot\u001b[0m \u001b[0;32mNone\u001b[0m\u001b[0;34m:\u001b[0m\u001b[0;34m\u001b[0m\u001b[0;34m\u001b[0m\u001b[0m\n",
      "\u001b[0;32m~/Snowflake/snowflake-connector-python/venv/lib64/python3.6/site-packages/snowflake/connector/errors.py\u001b[0m in \u001b[0;36mdefault_errorhandler\u001b[0;34m(connection, cursor, error_class, error_value)\u001b[0m\n\u001b[1;32m    193\u001b[0m             \u001b[0mdone_format_msg\u001b[0m\u001b[0;34m=\u001b[0m\u001b[0merror_value\u001b[0m\u001b[0;34m.\u001b[0m\u001b[0mget\u001b[0m\u001b[0;34m(\u001b[0m\u001b[0;34m\"done_format_msg\"\u001b[0m\u001b[0;34m)\u001b[0m\u001b[0;34m,\u001b[0m\u001b[0;34m\u001b[0m\u001b[0;34m\u001b[0m\u001b[0m\n\u001b[1;32m    194\u001b[0m             \u001b[0mconnection\u001b[0m\u001b[0;34m=\u001b[0m\u001b[0mconnection\u001b[0m\u001b[0;34m,\u001b[0m\u001b[0;34m\u001b[0m\u001b[0;34m\u001b[0m\u001b[0m\n\u001b[0;32m--> 195\u001b[0;31m             \u001b[0mcursor\u001b[0m\u001b[0;34m=\u001b[0m\u001b[0mcursor\u001b[0m\u001b[0;34m,\u001b[0m\u001b[0;34m\u001b[0m\u001b[0;34m\u001b[0m\u001b[0m\n\u001b[0m\u001b[1;32m    196\u001b[0m         )\n\u001b[1;32m    197\u001b[0m \u001b[0;34m\u001b[0m\u001b[0m\n",
      "\u001b[0;31mProgrammingError\u001b[0m: 100357 (P0000): Python Interpreter Error:\nModuleNotFoundError: No module named 'test_udf' in function TEMPUDF_851669829 with handler udf_py_1651678294.compute"
     ]
    }
   ],
   "source": [
    "import math\n",
    "from test_udf import factorial\n",
    "\n",
    "\n",
    "def sqrt_factorial(n):\n",
    "    return math.sqrt(factorial(n))\n",
    "\n",
    "# expect fail due to lack of dependency \n",
    "sqrt_factorial_udf = udf(sqrt_factorial, return_type=FloatType(), input_types=[IntegerType()])"
   ]
  },
  {
   "cell_type": "code",
   "execution_count": 28,
   "id": "c02d3a9b",
   "metadata": {},
   "outputs": [
    {
     "name": "stdout",
     "output_type": "stream",
     "text": [
      "[Row[1,1.0], Row[2,1.4142135623730951], Row[3,2.449489742783178]]\n"
     ]
    }
   ],
   "source": [
    "session.addImports(\"test_udf.py\")\n",
    "sqrt_factorial_udf = udf(sqrt_factorial, return_type=FloatType(), input_types=[IntegerType()])\n",
    "print(df.select(\"a\", sqrt_factorial_udf(\"a\")).collect())"
   ]
  },
  {
   "cell_type": "markdown",
   "id": "85b17229",
   "metadata": {},
   "source": [
    "----------------------------------------------------------"
   ]
  },
  {
   "cell_type": "code",
   "execution_count": 29,
   "id": "b3712c2d",
   "metadata": {},
   "outputs": [
    {
     "name": "stdout",
     "output_type": "stream",
     "text": [
      "[Row[DEMO_VIEW successfully dropped.]]\n",
      "[Row[DEMO_TABLE successfully dropped.]]\n"
     ]
    }
   ],
   "source": [
    "print(session.sql('drop view if exists demo_view').collect())\n",
    "print(session.sql('drop table if exists demo_table').collect())\n",
    "session.close()"
   ]
  },
  {
   "cell_type": "code",
   "execution_count": null,
   "id": "81039795",
   "metadata": {},
   "outputs": [],
   "source": []
  }
 ],
 "metadata": {
  "kernelspec": {
   "display_name": "Python 3",
   "language": "python",
   "name": "python3"
  },
  "language_info": {
   "codemirror_mode": {
    "name": "ipython",
    "version": 3
   },
   "file_extension": ".py",
   "mimetype": "text/x-python",
   "name": "python",
   "nbconvert_exporter": "python",
   "pygments_lexer": "ipython3",
   "version": "3.6.8"
  }
 },
 "nbformat": 4,
 "nbformat_minor": 5
}
